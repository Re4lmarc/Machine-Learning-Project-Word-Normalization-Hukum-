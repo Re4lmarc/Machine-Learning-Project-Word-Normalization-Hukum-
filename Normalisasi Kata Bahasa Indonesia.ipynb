{
  "nbformat": 4,
  "nbformat_minor": 0,
  "metadata": {
    "colab": {
      "name": "NormalizationBahasaIndonesia.ipynb",
      "provenance": [],
      "collapsed_sections": [
        "vng0yH52oLdd"
      ],
      "toc_visible": true,
      "include_colab_link": true
    },
    "kernelspec": {
      "name": "python3",
      "display_name": "Python 3"
    }
  },
  "cells": [
    {
      "cell_type": "markdown",
      "metadata": {
        "id": "view-in-github",
        "colab_type": "text"
      },
      "source": [
        "<a href=\"https://colab.research.google.com/github/Re4lmarc/Machine-Learning-Project-Word-Normalization-Hukum-/blob/master/Normalisasi%20Kata%20Bahasa%20Indonesia.ipynb\" target=\"_parent\"><img src=\"https://colab.research.google.com/assets/colab-badge.svg\" alt=\"Open In Colab\"/></a>"
      ]
    },
    {
      "cell_type": "markdown",
      "metadata": {
        "id": "MilP2-jIvo_Y",
        "colab_type": "text"
      },
      "source": [
        "# Mounting Drive"
      ]
    },
    {
      "cell_type": "code",
      "metadata": {
        "id": "eItlyrl6Dxj4",
        "colab_type": "code",
        "outputId": "47b10db1-f144-468d-e21f-21a93eadaaf8",
        "colab": {
          "base_uri": "https://localhost:8080/",
          "height": 73
        }
      },
      "source": [
        "from google.colab import drive\n",
        "drive.mount('/content/drive')\n",
        "%cd /content/drive/My\\ Drive"
      ],
      "execution_count": 1,
      "outputs": [
        {
          "output_type": "stream",
          "text": [
            "Drive already mounted at /content/drive; to attempt to forcibly remount, call drive.mount(\"/content/drive\", force_remount=True).\n",
            "/content/drive/My Drive\n"
          ],
          "name": "stdout"
        }
      ]
    },
    {
      "cell_type": "markdown",
      "metadata": {
        "id": "Vip0uGJk63Fk",
        "colab_type": "text"
      },
      "source": [
        "## Part Drive Refly\n"
      ]
    },
    {
      "cell_type": "code",
      "metadata": {
        "id": "foAK4aY162AX",
        "colab_type": "code",
        "outputId": "7ffef50e-450d-4e4e-b7fd-d4e9acda6b1e",
        "colab": {
          "base_uri": "https://localhost:8080/",
          "height": 35
        }
      },
      "source": [
        "cd Project ML/"
      ],
      "execution_count": 2,
      "outputs": [
        {
          "output_type": "stream",
          "text": [
            "/content/drive/My Drive/Project ML\n"
          ],
          "name": "stdout"
        }
      ]
    },
    {
      "cell_type": "markdown",
      "metadata": {
        "id": "hVWtND3g6_-r",
        "colab_type": "text"
      },
      "source": [
        "## Part drive Adrian"
      ]
    },
    {
      "cell_type": "code",
      "metadata": {
        "id": "gwDIwEbMcEwy",
        "colab_type": "code",
        "outputId": "cda0290d-ee41-4f9b-d244-107557f8e71c",
        "colab": {
          "base_uri": "https://localhost:8080/",
          "height": 53
        }
      },
      "source": [
        "%cd Colab\\ Notebooks"
      ],
      "execution_count": 0,
      "outputs": [
        {
          "output_type": "stream",
          "text": [
            "[Errno 2] No such file or directory: 'Colab Notebooks'\n",
            "/content/drive/My Drive/Project ML\n"
          ],
          "name": "stdout"
        }
      ]
    },
    {
      "cell_type": "code",
      "metadata": {
        "id": "4Cr6XDIicRd7",
        "colab_type": "code",
        "outputId": "09b75370-4c72-4360-e6e0-99524c36ff42",
        "colab": {
          "base_uri": "https://localhost:8080/",
          "height": 53
        }
      },
      "source": [
        "%cd data"
      ],
      "execution_count": 0,
      "outputs": [
        {
          "output_type": "stream",
          "text": [
            "[Errno 2] No such file or directory: 'data'\n",
            "/content/drive/My Drive/Colab Notebooks\n"
          ],
          "name": "stdout"
        }
      ]
    },
    {
      "cell_type": "markdown",
      "metadata": {
        "id": "R7RbfBR68I0i",
        "colab_type": "text"
      },
      "source": [
        "# Part Utama"
      ]
    },
    {
      "cell_type": "markdown",
      "metadata": {
        "id": "dWZjkFC8v5DO",
        "colab_type": "text"
      },
      "source": [
        "## Instalasi yang dibutuhkan"
      ]
    },
    {
      "cell_type": "code",
      "metadata": {
        "id": "ieb0-QOG8mAn",
        "colab_type": "code",
        "outputId": "7dc03cdf-1e96-4d2e-f2b7-8696f96753d1",
        "colab": {
          "base_uri": "https://localhost:8080/",
          "height": 343
        }
      },
      "source": [
        "pip install --upgrade gensim"
      ],
      "execution_count": 80,
      "outputs": [
        {
          "output_type": "stream",
          "text": [
            "Requirement already up-to-date: gensim in /usr/local/lib/python3.6/dist-packages (3.8.3)\n",
            "Requirement already satisfied, skipping upgrade: smart-open>=1.8.1 in /usr/local/lib/python3.6/dist-packages (from gensim) (2.0.0)\n",
            "Requirement already satisfied, skipping upgrade: numpy>=1.11.3 in /usr/local/lib/python3.6/dist-packages (from gensim) (1.18.4)\n",
            "Requirement already satisfied, skipping upgrade: six>=1.5.0 in /usr/local/lib/python3.6/dist-packages (from gensim) (1.12.0)\n",
            "Requirement already satisfied, skipping upgrade: scipy>=0.18.1 in /usr/local/lib/python3.6/dist-packages (from gensim) (1.4.1)\n",
            "Requirement already satisfied, skipping upgrade: boto3 in /usr/local/lib/python3.6/dist-packages (from smart-open>=1.8.1->gensim) (1.13.13)\n",
            "Requirement already satisfied, skipping upgrade: requests in /usr/local/lib/python3.6/dist-packages (from smart-open>=1.8.1->gensim) (2.23.0)\n",
            "Requirement already satisfied, skipping upgrade: boto in /usr/local/lib/python3.6/dist-packages (from smart-open>=1.8.1->gensim) (2.49.0)\n",
            "Requirement already satisfied, skipping upgrade: jmespath<1.0.0,>=0.7.1 in /usr/local/lib/python3.6/dist-packages (from boto3->smart-open>=1.8.1->gensim) (0.10.0)\n",
            "Requirement already satisfied, skipping upgrade: s3transfer<0.4.0,>=0.3.0 in /usr/local/lib/python3.6/dist-packages (from boto3->smart-open>=1.8.1->gensim) (0.3.3)\n",
            "Requirement already satisfied, skipping upgrade: botocore<1.17.0,>=1.16.13 in /usr/local/lib/python3.6/dist-packages (from boto3->smart-open>=1.8.1->gensim) (1.16.13)\n",
            "Requirement already satisfied, skipping upgrade: chardet<4,>=3.0.2 in /usr/local/lib/python3.6/dist-packages (from requests->smart-open>=1.8.1->gensim) (3.0.4)\n",
            "Requirement already satisfied, skipping upgrade: idna<3,>=2.5 in /usr/local/lib/python3.6/dist-packages (from requests->smart-open>=1.8.1->gensim) (2.9)\n",
            "Requirement already satisfied, skipping upgrade: certifi>=2017.4.17 in /usr/local/lib/python3.6/dist-packages (from requests->smart-open>=1.8.1->gensim) (2020.4.5.1)\n",
            "Requirement already satisfied, skipping upgrade: urllib3!=1.25.0,!=1.25.1,<1.26,>=1.21.1 in /usr/local/lib/python3.6/dist-packages (from requests->smart-open>=1.8.1->gensim) (1.24.3)\n",
            "Requirement already satisfied, skipping upgrade: docutils<0.16,>=0.10 in /usr/local/lib/python3.6/dist-packages (from botocore<1.17.0,>=1.16.13->boto3->smart-open>=1.8.1->gensim) (0.15.2)\n",
            "Requirement already satisfied, skipping upgrade: python-dateutil<3.0.0,>=2.1 in /usr/local/lib/python3.6/dist-packages (from botocore<1.17.0,>=1.16.13->boto3->smart-open>=1.8.1->gensim) (2.8.1)\n"
          ],
          "name": "stdout"
        }
      ]
    },
    {
      "cell_type": "markdown",
      "metadata": {
        "id": "rQzdbQIBv_rK",
        "colab_type": "text"
      },
      "source": [
        "## Semua Library"
      ]
    },
    {
      "cell_type": "code",
      "metadata": {
        "id": "xjJ_hn1oc1WQ",
        "colab_type": "code",
        "outputId": "bd236848-d42d-4dd6-9bed-4bcee9f03cc5",
        "colab": {
          "base_uri": "https://localhost:8080/",
          "height": 55
        }
      },
      "source": [
        "# Importing Required Libraries\n",
        "import pandas as pd\n",
        "import sqlite3 as sql\n",
        "import re\n",
        "import nltk\n",
        "import glob\n",
        "import numpy as np\n",
        "import string\n",
        "import logging as log\n",
        "import os\n",
        "import csv\n",
        "import pickle\n",
        "from sklearn import preprocessing\n",
        "from gensim.models import FastText\n",
        "from gensim import utils\n",
        "from gensim.test.utils import datapath\n",
        "from gensim.utils import tokenize\n",
        "from string import punctuation\n",
        "from nltk.tokenize import word_tokenize, RegexpTokenizer\n",
        "from sqlite3 import Error\n",
        "from tqdm.autonotebook import tqdm\n",
        "from sklearn.metrics import roc_auc_score, accuracy_score, classification_report, confusion_matrix"
      ],
      "execution_count": 3,
      "outputs": [
        {
          "output_type": "stream",
          "text": [
            "/usr/local/lib/python3.6/dist-packages/ipykernel_launcher.py:21: TqdmExperimentalWarning: Using `tqdm.autonotebook.tqdm` in notebook mode. Use `tqdm.tqdm` instead to force console mode (e.g. in jupyter console)\n"
          ],
          "name": "stderr"
        }
      ]
    },
    {
      "cell_type": "markdown",
      "metadata": {
        "id": "baZtNNHtwCcb",
        "colab_type": "text"
      },
      "source": [
        "## Connect Database"
      ]
    },
    {
      "cell_type": "code",
      "metadata": {
        "id": "RvV1GxGfc-Wm",
        "colab_type": "code",
        "colab": {}
      },
      "source": [
        "conn = sql.connect(\"/content/drive/My Drive/Project ML/DBnews.db\")\n",
        "dataset = pd.read_sql_query(\"SELECT * FROM t_comments\", conn)"
      ],
      "execution_count": 0,
      "outputs": []
    },
    {
      "cell_type": "code",
      "metadata": {
        "id": "ohJ7pyGqwOAT",
        "colab_type": "code",
        "colab": {}
      },
      "source": [
        "con2 = sql.connect(\"/content/drive/My Drive/Project ML/korpus.db\")\n",
        "df_korpus_kata = pd.read_sql_query(\"SELECT * from korpus_kata\", con2)\n",
        "df_korpus_kalimat = pd.read_sql_query(\"SELECT * from korpus_kalimat\", con2)"
      ],
      "execution_count": 0,
      "outputs": []
    },
    {
      "cell_type": "code",
      "metadata": {
        "id": "zHAj9sPowkyW",
        "colab_type": "code",
        "outputId": "0bb4eae9-50b4-4160-bd4b-eee6a1da359b",
        "colab": {
          "base_uri": "https://localhost:8080/",
          "height": 233
        }
      },
      "source": [
        "dataset['comment'].value_counts()"
      ],
      "execution_count": 0,
      "outputs": [
        {
          "output_type": "execute_result",
          "data": {
            "text/plain": [
              "#2019GantiPresiden                                                                              140\n",
              "Alhamdulillah                                                                                   130\n",
              "#2019gantipresiden                                                                              108\n",
              "%u2063#2019PrabowoPresiden                                                                       84\n",
              "mantap                                                                                           61\n",
              "                                                                                               ... \n",
              "Pejabat negara jangan memberi contoh tidak baik kepada rakyat dengan tidak menghormati hukum      1\n",
              "Ijtimak ulama, tapi kok yg hadir banyak orang politik dan bicara capres....?�                     1\n",
              "Selama anggarannya ada. Zaman now apa masih ada ya anggaran THR buat ormas2 seperti ini ?         1\n",
              "kita bersuara disini percuma kl ya? g ngaruh jg..g bkl jg dirubah aturannya                       1\n",
              "Iyalah... 176-761.... %uD83D%uDE02%uD83D%uDE02                                                    1\n",
              "Name: comment, Length: 584385, dtype: int64"
            ]
          },
          "metadata": {
            "tags": []
          },
          "execution_count": 6
        }
      ]
    },
    {
      "cell_type": "markdown",
      "metadata": {
        "id": "fUiMFH5mwGO5",
        "colab_type": "text"
      },
      "source": [
        "## Semua Proses Editing"
      ]
    },
    {
      "cell_type": "code",
      "metadata": {
        "id": "PJoZoFn6SWNb",
        "colab_type": "code",
        "colab": {}
      },
      "source": [
        "list_vocab_kalimat = list(df_korpus_kalimat['kalimat'])"
      ],
      "execution_count": 0,
      "outputs": []
    },
    {
      "cell_type": "code",
      "metadata": {
        "colab_type": "code",
        "id": "ChVo5XAJlZDb",
        "colab": {}
      },
      "source": [
        "for idx_list in range(len(list_vocab_kalimat)):\n",
        "  list_vocab_kalimat[idx_list] = re.sub('<s>', '', list_vocab_kalimat[idx_list]) \n",
        "  list_vocab_kalimat[idx_list] = re.sub('</s>', '', list_vocab_kalimat[idx_list]) "
      ],
      "execution_count": 0,
      "outputs": []
    },
    {
      "cell_type": "code",
      "metadata": {
        "id": "DSbJhxWYUYKU",
        "colab_type": "code",
        "outputId": "6537bef6-99a4-44de-ec1f-25b2df32b79d",
        "colab": {
          "base_uri": "https://localhost:8080/",
          "height": 35
        }
      },
      "source": [
        "list_vocab_kalimat[0] = list_vocab_kalimat[0][1:len(list_vocab_kalimat[0])]\n",
        "list_vocab_kalimat[0]"
      ],
      "execution_count": 0,
      "outputs": [
        {
          "output_type": "execute_result",
          "data": {
            "text/plain": [
              "'penjelasan umum'"
            ]
          },
          "metadata": {
            "tags": []
          },
          "execution_count": 59
        }
      ]
    },
    {
      "cell_type": "code",
      "metadata": {
        "id": "HJI_cwdwJqLP",
        "colab_type": "code",
        "colab": {}
      },
      "source": [
        "kamus_kata_banyak =  open('/content/drive/My Drive/Project ML/ind-id_web_2017_1M/ind-id_web_2017_1M-sentences.txt', encoding='utf-8')\n",
        "semua_line = kamus_kata_banyak.readlines()"
      ],
      "execution_count": 0,
      "outputs": []
    },
    {
      "cell_type": "code",
      "metadata": {
        "id": "zb_wxmhaJrFy",
        "colab_type": "code",
        "colab": {}
      },
      "source": [
        "for i in range(len(semua_line)):\n",
        "  semua_line[i] = a = re.split('\\n|\\t',semua_line[i])\n",
        "  semua_line[i] = semua_line[i][1:len(semua_line[i])-1]\n",
        "  semua_line[i] = semua_line[i][0]"
      ],
      "execution_count": 0,
      "outputs": []
    },
    {
      "cell_type": "code",
      "metadata": {
        "id": "KICR988Weg-L",
        "colab_type": "code",
        "colab": {}
      },
      "source": [
        "all_comments = list(dataset['comment'])"
      ],
      "execution_count": 0,
      "outputs": []
    },
    {
      "cell_type": "code",
      "metadata": {
        "id": "V9dERn7_TIzj",
        "colab_type": "code",
        "colab": {}
      },
      "source": [
        "semua_kalimat_fasttext = semua_line + all_comments + list_vocab_kalimat "
      ],
      "execution_count": 0,
      "outputs": []
    },
    {
      "cell_type": "code",
      "metadata": {
        "id": "SJ9avXmceosQ",
        "colab_type": "code",
        "colab": {}
      },
      "source": [
        "numbers = re.compile(r'[0-9]')\n",
        "def number(teks):\n",
        "    teks = [numbers.sub(\"\", word) for word in teks]\n",
        "    teks = [word for word in teks if len(word) != 0]\n",
        "    return teks\n",
        "\n",
        "cleaning = RegexpTokenizer(r'\\w+')\n",
        "def clean(kalimat):\n",
        "    kata_cleaning = cleaning.tokenize(kalimat)\n",
        "    return kata_cleaning\n",
        "\n",
        "def tokenize(kalimat):\n",
        "    kata_tokenize = word_tokenize(kalimat)\n",
        "    return kata_tokenize\n",
        "\n",
        "def case_fold(kalimat):\n",
        "    kata_lower = []\n",
        "    for item in kalimat:\n",
        "        kata_lower.append(str(item).lower())\n",
        "    return kata_lower"
      ],
      "execution_count": 0,
      "outputs": []
    },
    {
      "cell_type": "code",
      "metadata": {
        "id": "Hvq50CygTrT-",
        "colab_type": "code",
        "colab": {}
      },
      "source": [
        "all_filter_fasttext = []\n",
        "for idx_fasttext in range(len(semua_kalimat_fasttext)):\n",
        "    token_comments = clean(semua_kalimat_fasttext[idx_fasttext])\n",
        "    token_comments = number(token_comments)\n",
        "    token_comments = case_fold(token_comments)\n",
        "    all_filter_fasttext.append(token_comments)"
      ],
      "execution_count": 0,
      "outputs": []
    },
    {
      "cell_type": "code",
      "metadata": {
        "id": "ZYd3AmINevNb",
        "colab_type": "code",
        "colab": {}
      },
      "source": [
        "all_filter_comments = []\n",
        "for idx_comments in range(len(all_comments)):\n",
        "    token_comments = clean(all_comments[idx_comments])\n",
        "    token_comments = number(token_comments)\n",
        "    token_comments = case_fold(token_comments)\n",
        "    all_filter_comments.append(token_comments)"
      ],
      "execution_count": 0,
      "outputs": []
    },
    {
      "cell_type": "markdown",
      "metadata": {
        "id": "tt5-OnBAqS_5",
        "colab_type": "text"
      },
      "source": [
        "## Filter Kata Non KBBI Fase 1"
      ]
    },
    {
      "cell_type": "markdown",
      "metadata": {
        "id": "oHLFA3Ik0dHv",
        "colab_type": "text"
      },
      "source": [
        "### Filter Kata Baku dengan predefined Corpus"
      ]
    },
    {
      "cell_type": "code",
      "metadata": {
        "id": "sHh2w_MYezCv",
        "colab_type": "code",
        "colab": {}
      },
      "source": [
        "df_korpus_kata = df_korpus_kata.dropna(subset=['kata'], axis=0)\n",
        "list_vocab_kata = list(df_korpus_kata['kata'])\n",
        "list_vocab_kalimat = list(df_korpus_kalimat['kalimat'])\n",
        "list_tag_kata = list(df_korpus_kata['tag'])"
      ],
      "execution_count": 0,
      "outputs": []
    },
    {
      "cell_type": "code",
      "metadata": {
        "id": "Q3ZPtCuGXagg",
        "colab_type": "code",
        "colab": {}
      },
      "source": [
        "not_kbbi = []\n",
        "\n",
        "dictionary_kata = {}\n",
        "\n",
        "for kalimat in all_filter_comments:\n",
        " for kata in kalimat:\n",
        "    if kata in list_vocab_kata:\n",
        "      dictionary_kata[kata] = kata\n",
        "    else:\n",
        "      not_kbbi.append(kata)"
      ],
      "execution_count": 0,
      "outputs": []
    },
    {
      "cell_type": "markdown",
      "metadata": {
        "id": "lfeR80By-Rwg",
        "colab_type": "text"
      },
      "source": [
        "### Save Kata Baku dan tidak baku yang terfilter "
      ]
    },
    {
      "cell_type": "code",
      "metadata": {
        "id": "jSb_9ZPzeMt1",
        "colab_type": "code",
        "colab": {}
      },
      "source": [
        "df_dictionary_kata.columns = ['Kata Sebelum', 'Kata KBBI'] \n",
        "df_dictionary_kata\n",
        "df_dictionary_kata.to_csv('Map Kata KBBI.csv',index=False)"
      ],
      "execution_count": 0,
      "outputs": []
    },
    {
      "cell_type": "code",
      "metadata": {
        "id": "jA5xzW_f-Iec",
        "colab_type": "code",
        "colab": {}
      },
      "source": [
        "for idx_list in range(len(list_vocab_kalimat)):\n",
        "  list_vocab_kalimat[idx_list] = re.sub('<s>', '', list_vocab_kalimat[idx_list]) \n",
        "  list_vocab_kalimat[idx_list] = re.sub('</s>', '', list_vocab_kalimat[idx_list]) "
      ],
      "execution_count": 0,
      "outputs": []
    },
    {
      "cell_type": "code",
      "metadata": {
        "id": "jxAwKiFXvHy5",
        "colab_type": "code",
        "outputId": "ba056d41-f129-4388-c86c-87173602f74f",
        "colab": {
          "base_uri": "https://localhost:8080/",
          "height": 125
        }
      },
      "source": [
        "kata_non_kbbi = pd.Series(not_kbbi)\n",
        "kata_non_kbbi.head()"
      ],
      "execution_count": 0,
      "outputs": [
        {
          "output_type": "execute_result",
          "data": {
            "text/plain": [
              "0    wkwkwk\n",
              "1       dpr\n",
              "2    mantab\n",
              "3        br\n",
              "4        kl\n",
              "dtype: object"
            ]
          },
          "metadata": {
            "tags": []
          },
          "execution_count": 96
        }
      ]
    },
    {
      "cell_type": "markdown",
      "metadata": {
        "id": "tQY0oAPI-luR",
        "colab_type": "text"
      },
      "source": [
        "### Load Kata KBBI dan Non KBBI"
      ]
    },
    {
      "cell_type": "code",
      "metadata": {
        "id": "-x6KyLfU9-QP",
        "colab_type": "code",
        "outputId": "23e85667-0c0c-4aca-a1d5-446cea795b82",
        "colab": {
          "base_uri": "https://localhost:8080/",
          "height": 73
        }
      },
      "source": [
        "kata_non_kbbi = pd.read_csv('Map Kata Non KBBI.csv', index_col=[0])\n",
        "kata_kbbi_pertama = pd.read_excel('Map Kata KBBI2.xlsx')"
      ],
      "execution_count": 4,
      "outputs": [
        {
          "output_type": "stream",
          "text": [
            "/usr/local/lib/python3.6/dist-packages/numpy/lib/arraysetops.py:569: FutureWarning: elementwise comparison failed; returning scalar instead, but in the future will perform elementwise comparison\n",
            "  mask |= (ar1 == a)\n"
          ],
          "name": "stderr"
        }
      ]
    },
    {
      "cell_type": "code",
      "metadata": {
        "id": "GC4nN5cED-83",
        "colab_type": "code",
        "colab": {}
      },
      "source": [
        "new_dictionary = dictionary_kata.copy()\n",
        "\n",
        "for idx in range(len(new_dictionary))"
      ],
      "execution_count": 0,
      "outputs": []
    },
    {
      "cell_type": "code",
      "metadata": {
        "id": "GrYctY-c-lVV",
        "colab_type": "code",
        "outputId": "0dd6bc0b-85c7-4fe3-de5d-2941456a1354",
        "colab": {
          "base_uri": "https://localhost:8080/",
          "height": 35
        }
      },
      "source": [
        "kata_non_kbbi.columns = ['kata tidak baku']\n",
        "list_kata_non_kbbi = list(kata_non_kbbi['kata tidak baku']) \n",
        "print(len(list_kata_non_kbbi))"
      ],
      "execution_count": 0,
      "outputs": [
        {
          "output_type": "stream",
          "text": [
            "1967934\n"
          ],
          "name": "stdout"
        }
      ]
    },
    {
      "cell_type": "markdown",
      "metadata": {
        "id": "gRkIceRzwqXU",
        "colab_type": "text"
      },
      "source": [
        "## FastText"
      ]
    },
    {
      "cell_type": "code",
      "metadata": {
        "id": "Ga-LYbuK_1IG",
        "colab_type": "code",
        "outputId": "44a4fd4a-8375-414f-b672-ac883625b1b3",
        "colab": {
          "base_uri": "https://localhost:8080/",
          "height": 71
        }
      },
      "source": [
        "nltk.download('punkt')"
      ],
      "execution_count": 0,
      "outputs": [
        {
          "output_type": "stream",
          "text": [
            "[nltk_data] Downloading package punkt to /root/nltk_data...\n",
            "[nltk_data]   Unzipping tokenizers/punkt.zip.\n"
          ],
          "name": "stdout"
        },
        {
          "output_type": "execute_result",
          "data": {
            "text/plain": [
              "True"
            ]
          },
          "metadata": {
            "tags": []
          },
          "execution_count": 10
        }
      ]
    },
    {
      "cell_type": "markdown",
      "metadata": {
        "id": "vng0yH52oLdd",
        "colab_type": "text"
      },
      "source": [
        "### Kamus Kata benar + dataset"
      ]
    },
    {
      "cell_type": "code",
      "metadata": {
        "id": "4yBfBMmUFWGm",
        "colab_type": "code",
        "colab": {}
      },
      "source": [
        "tok_new[0:10]"
      ],
      "execution_count": 0,
      "outputs": []
    },
    {
      "cell_type": "code",
      "metadata": {
        "id": "XUE8P6XPwppz",
        "colab_type": "code",
        "outputId": "fb2c1d63-0eb9-4df0-ae03-39d62b9e705b",
        "colab": {
          "base_uri": "https://localhost:8080/",
          "height": 35
        }
      },
      "source": [
        "model = FastText()\n",
        "\n",
        "#build the vocabulary\n",
        "model.build_vocab(sentences=tok_new)\n",
        "\n",
        "# train the model\n",
        "model.train(sentences=tok_new, epochs=model.epochs, total_examples=model.corpus_count, total_word=model.corpus_total_words)\n",
        "\n",
        "print(model)"
      ],
      "execution_count": 0,
      "outputs": [
        {
          "output_type": "stream",
          "text": [
            "FastText(vocab=21655, size=100, alpha=0.025)\n"
          ],
          "name": "stdout"
        }
      ]
    },
    {
      "cell_type": "code",
      "metadata": {
        "id": "WpLvhhiqp6R4",
        "colab_type": "code",
        "outputId": "73af0d2b-0671-4dab-fdc5-fc69cd6b3d0f",
        "colab": {
          "base_uri": "https://localhost:8080/",
          "height": 35
        }
      },
      "source": [
        "'makin' in model.wv.vocab"
      ],
      "execution_count": 0,
      "outputs": [
        {
          "output_type": "execute_result",
          "data": {
            "text/plain": [
              "True"
            ]
          },
          "metadata": {
            "tags": []
          },
          "execution_count": 41
        }
      ]
    },
    {
      "cell_type": "code",
      "metadata": {
        "id": "ZiMBBTLkt47S",
        "colab_type": "code",
        "outputId": "27ccbd6b-0590-4cf2-f487-150d17201d93",
        "colab": {
          "base_uri": "https://localhost:8080/",
          "height": 91
        }
      },
      "source": [
        "model.wv.similarity('makan', 'mkn')"
      ],
      "execution_count": 0,
      "outputs": [
        {
          "output_type": "stream",
          "text": [
            "/usr/local/lib/python3.6/dist-packages/gensim/matutils.py:737: FutureWarning: Conversion of the second argument of issubdtype from `int` to `np.signedinteger` is deprecated. In future, it will be treated as `np.int64 == np.dtype(int).type`.\n",
            "  if np.issubdtype(vec.dtype, np.int):\n"
          ],
          "name": "stderr"
        },
        {
          "output_type": "execute_result",
          "data": {
            "text/plain": [
              "-0.40324718"
            ]
          },
          "metadata": {
            "tags": []
          },
          "execution_count": 39
        }
      ]
    },
    {
      "cell_type": "code",
      "metadata": {
        "id": "dwViqWF5_85O",
        "colab_type": "code",
        "outputId": "e93d92cb-174d-4bb3-f07d-9948a1d53d76",
        "colab": {
          "base_uri": "https://localhost:8080/",
          "height": 253
        }
      },
      "source": [
        "model.wv.most_similar('makan')"
      ],
      "execution_count": 0,
      "outputs": [
        {
          "output_type": "stream",
          "text": [
            "/usr/local/lib/python3.6/dist-packages/gensim/matutils.py:737: FutureWarning: Conversion of the second argument of issubdtype from `int` to `np.signedinteger` is deprecated. In future, it will be treated as `np.int64 == np.dtype(int).type`.\n",
            "  if np.issubdtype(vec.dtype, np.int):\n"
          ],
          "name": "stderr"
        },
        {
          "output_type": "execute_result",
          "data": {
            "text/plain": [
              "[('makanya', 0.9030953645706177),\n",
              " ('makanlah', 0.8966188430786133),\n",
              " ('makannya', 0.884308934211731),\n",
              " ('dimakan', 0.8494226932525635),\n",
              " ('termakan', 0.8285702466964722),\n",
              " ('makanuntuk', 0.8195314407348633),\n",
              " ('makam', 0.8078377842903137),\n",
              " ('perlemakan', 0.8075428009033203),\n",
              " ('disamakan', 0.807175874710083),\n",
              " ('diutamakan', 0.8063433170318604)]"
            ]
          },
          "metadata": {
            "tags": []
          },
          "execution_count": 38
        }
      ]
    },
    {
      "cell_type": "code",
      "metadata": {
        "id": "7UnQRAZkwzjE",
        "colab_type": "code",
        "outputId": "cdddc7c8-c5a5-4cd0-b674-03251d7fd7dd",
        "colab": {
          "base_uri": "https://localhost:8080/",
          "height": 91
        }
      },
      "source": [
        "model_fasttext.wv.similarity('siapa', 'siape')"
      ],
      "execution_count": 0,
      "outputs": [
        {
          "output_type": "stream",
          "text": [
            "/usr/local/lib/python3.6/dist-packages/gensim/matutils.py:737: FutureWarning: Conversion of the second argument of issubdtype from `int` to `np.signedinteger` is deprecated. In future, it will be treated as `np.int64 == np.dtype(int).type`.\n",
            "  if np.issubdtype(vec.dtype, np.int):\n"
          ],
          "name": "stderr"
        },
        {
          "output_type": "execute_result",
          "data": {
            "text/plain": [
              "0.75340754"
            ]
          },
          "metadata": {
            "tags": []
          },
          "execution_count": 73
        }
      ]
    },
    {
      "cell_type": "markdown",
      "metadata": {
        "id": "UHItzbgnoPl6",
        "colab_type": "text"
      },
      "source": [
        "### Nama File"
      ]
    },
    {
      "cell_type": "code",
      "metadata": {
        "id": "UmzuRoGqzBIH",
        "colab_type": "code",
        "colab": {}
      },
      "source": [
        "filename = 'fasttext_model_fixed.sav'\n",
        "filename2 = 'fasttext_model_fixed_50.sav'\n",
        "filename3 = 'fasttext_model_comment.sav'"
      ],
      "execution_count": 0,
      "outputs": []
    },
    {
      "cell_type": "markdown",
      "metadata": {
        "id": "zWHlb2blywXa",
        "colab_type": "text"
      },
      "source": [
        "#### Training & Saving Fasttext Model"
      ]
    },
    {
      "cell_type": "code",
      "metadata": {
        "id": "_4NZ3k8H78o8",
        "colab_type": "code",
        "colab": {}
      },
      "source": [
        "model_fasttext = FastText(window=3, min_count=1)\n",
        "model_fasttext.build_vocab(sentences=all_filter_comments)\n",
        "total_examples = model_fasttext.corpus_count\n",
        "model_fasttext.train(sentences=all_filter_comments, total_examples=total_examples, epochs=5)"
      ],
      "execution_count": 0,
      "outputs": []
    },
    {
      "cell_type": "code",
      "metadata": {
        "id": "SrlIwfD9xQkB",
        "colab_type": "code",
        "colab": {}
      },
      "source": [
        "pickle.dump(model_fasttext, open(filename3, 'wb'))"
      ],
      "execution_count": 0,
      "outputs": []
    },
    {
      "cell_type": "markdown",
      "metadata": {
        "id": "k_kH2N1UzFYI",
        "colab_type": "text"
      },
      "source": [
        "#### Melakukan Load Model Fasttext yang sudah di Train"
      ]
    },
    {
      "cell_type": "code",
      "metadata": {
        "id": "96lsf33HxoAm",
        "colab_type": "code",
        "colab": {}
      },
      "source": [
        "# Model Fasttext untuk Kata Gabungan semua Corpus\n",
        "fasttext_model_50 = pickle.load(open(filename2, 'rb'))\n",
        "\n",
        "# Model Fasttext Untuk Kata Pada Comment\n",
        "fasttext_model_comment = pickle.load(open(filename3, 'rb'))"
      ],
      "execution_count": 0,
      "outputs": []
    },
    {
      "cell_type": "code",
      "metadata": {
        "id": "MlhKIYCSzNuz",
        "colab_type": "code",
        "outputId": "d9f6d159-c773-47e1-aa43-551460d4557f",
        "colab": {
          "base_uri": "https://localhost:8080/",
          "height": 53
        }
      },
      "source": [
        "print(fasttext_model_50)\n",
        "print(fasttext_model_comment)"
      ],
      "execution_count": 0,
      "outputs": [
        {
          "output_type": "stream",
          "text": [
            "FastText(vocab=412721, size=50, alpha=0.025)\n",
            "FastText(vocab=172154, size=100, alpha=0.025)\n"
          ],
          "name": "stdout"
        }
      ]
    },
    {
      "cell_type": "markdown",
      "metadata": {
        "id": "zI881kTGprJK",
        "colab_type": "text"
      },
      "source": [
        "## Filter Kata Non KBBI Fase 2"
      ]
    },
    {
      "cell_type": "code",
      "metadata": {
        "id": "0gL673ryqxUQ",
        "colab_type": "code",
        "colab": {}
      },
      "source": [
        "df_datapairing = pd.read_csv('https://raw.githubusercontent.com/nasalsabila/kamus-alay/master/colloquial-indonesian-lexicon.csv')"
      ],
      "execution_count": 0,
      "outputs": []
    },
    {
      "cell_type": "code",
      "metadata": {
        "id": "EPW6Smb4lqjK",
        "colab_type": "code",
        "outputId": "7c8ffc5c-712b-4386-f156-ffe411537e73",
        "colab": {
          "base_uri": "https://localhost:8080/",
          "height": 35
        }
      },
      "source": [
        "slang_samadengan = df_datapairing['slang'] == 'mkn'\n",
        "list(df_datapairing['formal'][slang_samadengan].head(1))[0]"
      ],
      "execution_count": 0,
      "outputs": [
        {
          "output_type": "execute_result",
          "data": {
            "text/plain": [
              "'makin'"
            ]
          },
          "metadata": {
            "tags": []
          },
          "execution_count": 185
        }
      ]
    },
    {
      "cell_type": "code",
      "metadata": {
        "id": "X7UV7cfO19nm",
        "colab_type": "code",
        "colab": {}
      },
      "source": [
        "kata_non_kbbi_dua = []\n",
        "kata_non_formal = []\n",
        "kata_formal = []\n",
        "category_kata = []\n",
        "vector_sebelum = []\n",
        "vector_setelah = []\n",
        "\n",
        "for idx in range(len(list_kata_non_kbbi)):\n",
        "  slang_samadengan = df_datapairing['slang'] == list_kata_non_kbbi[idx]\n",
        "  if not df_datapairing[slang_samadengan].empty:\n",
        "    kata_non_formal.append(list_kata_non_kbbi[idx]) \n",
        "    kata_formal.append(list(df_datapairing['formal'][slang_samadengan].head(1))[0])\n",
        "    category_kata.append(list(df_datapairing['category1'][slang_samadengan].head(1))[0])\n",
        "    vector_sebelum.append(round(float(fasttext_model.wv[list_kata_non_kbbi[idx]]), 7))\n",
        "    vector_setelah.append(round(float(fasttext_model.wv[df_datapairing['formal'][slang_samadengan].head(1)]), 7))\n",
        "  else:\n",
        "    kata_non_kbbi_dua.append(list_kata_non_kbbi[idx])"
      ],
      "execution_count": 0,
      "outputs": []
    },
    {
      "cell_type": "code",
      "metadata": {
        "id": "No8b-ONgR15A",
        "colab_type": "code",
        "colab": {}
      },
      "source": [
        "len(kata_formal)\n",
        "\n",
        "df = pd.DataFrame(list(zip(kata_non_formal, kata_formal ,category_kata, vector_sebelum, vector_setelah)), columns =['Kata awal', 'Kata KBBI', 'Kategori', 'Vector Sebelum', 'Vector Setelah']) "
      ],
      "execution_count": 0,
      "outputs": []
    },
    {
      "cell_type": "code",
      "metadata": {
        "id": "8KtZjy8XGpDF",
        "colab_type": "code",
        "outputId": "ab9a2c96-b8ba-452f-c626-0d2fb9c9770a",
        "colab": {
          "base_uri": "https://localhost:8080/",
          "height": 35
        }
      },
      "source": [
        "slang_samadengan = df_datapairing['slang'] == 'br'\n",
        "df_datapairing['formal'][slang_samadengan].head()"
      ],
      "execution_count": 0,
      "outputs": [
        {
          "output_type": "stream",
          "text": [
            "True\n"
          ],
          "name": "stdout"
        }
      ]
    },
    {
      "cell_type": "markdown",
      "metadata": {
        "id": "-cdkypaCZUmO",
        "colab_type": "text"
      },
      "source": [
        "### Fix Filter 2 Kesalahaan Input"
      ]
    },
    {
      "cell_type": "code",
      "metadata": {
        "id": "uFZ-XVEW2av_",
        "colab_type": "code",
        "outputId": "1b613719-c962-4c29-bd49-44f00fd4f44a",
        "colab": {
          "base_uri": "https://localhost:8080/",
          "height": 204
        }
      },
      "source": [
        "df_kata_kbbi_2_fixed = pd.DataFrame({'Kata Awal' : list_kata_awal, 'Kata KBBI' : list_kata_kbbi, 'Kategori': list_kategori})\n",
        "df_kata_kbbi_2_fixed.tail()"
      ],
      "execution_count": 0,
      "outputs": [
        {
          "output_type": "execute_result",
          "data": {
            "text/html": [
              "<div>\n",
              "<style scoped>\n",
              "    .dataframe tbody tr th:only-of-type {\n",
              "        vertical-align: middle;\n",
              "    }\n",
              "\n",
              "    .dataframe tbody tr th {\n",
              "        vertical-align: top;\n",
              "    }\n",
              "\n",
              "    .dataframe thead th {\n",
              "        text-align: right;\n",
              "    }\n",
              "</style>\n",
              "<table border=\"1\" class=\"dataframe\">\n",
              "  <thead>\n",
              "    <tr style=\"text-align: right;\">\n",
              "      <th></th>\n",
              "      <th>Kata Awal</th>\n",
              "      <th>Kata KBBI</th>\n",
              "      <th>Kategori</th>\n",
              "    </tr>\n",
              "  </thead>\n",
              "  <tbody>\n",
              "    <tr>\n",
              "      <th>674424</th>\n",
              "      <td>ngadain</td>\n",
              "      <td>mengadakan</td>\n",
              "      <td>afiksasi</td>\n",
              "    </tr>\n",
              "    <tr>\n",
              "      <th>674425</th>\n",
              "      <td>ngadain</td>\n",
              "      <td>mengadakan</td>\n",
              "      <td>afiksasi</td>\n",
              "    </tr>\n",
              "    <tr>\n",
              "      <th>674426</th>\n",
              "      <td>nulis</td>\n",
              "      <td>menulis</td>\n",
              "      <td>afiksasi</td>\n",
              "    </tr>\n",
              "    <tr>\n",
              "      <th>674427</th>\n",
              "      <td>sebenernya</td>\n",
              "      <td>sebenarnya</td>\n",
              "      <td>modifikasi vokal</td>\n",
              "    </tr>\n",
              "    <tr>\n",
              "      <th>674428</th>\n",
              "      <td>bener</td>\n",
              "      <td>benar</td>\n",
              "      <td>modifikasi vokal</td>\n",
              "    </tr>\n",
              "  </tbody>\n",
              "</table>\n",
              "</div>"
            ],
            "text/plain": [
              "         Kata Awal   Kata KBBI          Kategori\n",
              "674424     ngadain  mengadakan          afiksasi\n",
              "674425     ngadain  mengadakan          afiksasi\n",
              "674426       nulis     menulis          afiksasi\n",
              "674427  sebenernya  sebenarnya  modifikasi vokal\n",
              "674428       bener       benar  modifikasi vokal"
            ]
          },
          "metadata": {
            "tags": []
          },
          "execution_count": 143
        }
      ]
    },
    {
      "cell_type": "code",
      "metadata": {
        "id": "Kvf7p5nMqOi3",
        "colab_type": "code",
        "colab": {}
      },
      "source": [
        "df_kata_kbbi_2_fixed.to_csv('Map Kata KBBI 2_fixed.csv',index=False)"
      ],
      "execution_count": 0,
      "outputs": []
    },
    {
      "cell_type": "markdown",
      "metadata": {
        "id": "HsYevwHk_BuG",
        "colab_type": "text"
      },
      "source": [
        "### Load Hasil Filter 2"
      ]
    },
    {
      "cell_type": "code",
      "metadata": {
        "id": "0MhhBJ106RKu",
        "colab_type": "code",
        "colab": {}
      },
      "source": [
        "df_kata_kbbi_2_new = pd.read_csv('Map Kata KBBI 2_fixed.csv')"
      ],
      "execution_count": 0,
      "outputs": []
    },
    {
      "cell_type": "markdown",
      "metadata": {
        "id": "GvgHAD_R2Cps",
        "colab_type": "text"
      },
      "source": [
        "## Filter kata Non KBBI fase 3"
      ]
    },
    {
      "cell_type": "code",
      "metadata": {
        "id": "1150l8okq7zy",
        "colab_type": "code",
        "colab": {}
      },
      "source": [
        "kata_non_kbbi = pd.Series(kata_non_kbbi_dua)\n",
        "kata_non_kbbi.to_csv('Map Kata Non KBBI 2.csv',index=False)"
      ],
      "execution_count": 0,
      "outputs": []
    },
    {
      "cell_type": "markdown",
      "metadata": {
        "id": "e-zU0cHLwJwP",
        "colab_type": "text"
      },
      "source": [
        "### LCS"
      ]
    },
    {
      "cell_type": "code",
      "metadata": {
        "id": "RR_7am48wLLi",
        "colab_type": "code",
        "colab": {}
      },
      "source": [
        "def lcs(X, Y, m, n): \n",
        "  \n",
        "    if m == 0 or n == 0: \n",
        "       return 0; \n",
        "    elif X[m-1] == Y[n-1]: \n",
        "       return 1 + lcs(X, Y, m-1, n-1); \n",
        "    else: \n",
        "       return max(lcs(X, Y, m, n-1), lcs(X, Y, m-1, n)); "
      ],
      "execution_count": 0,
      "outputs": []
    },
    {
      "cell_type": "code",
      "metadata": {
        "id": "H12tX4KTtEpW",
        "colab_type": "code",
        "colab": {}
      },
      "source": [
        "# Melakukan clearning data dari Null Value dan Emotikon\n",
        "df_kata_non_kbbi = pd.read_csv('Map Kata Non KBBI 2.csv')\n",
        "df_kata_non_kbbi = df_kata_non_kbbi.dropna()\n",
        "df_kata_non_kbbi = df_kata_non_kbbi[df_kata_non_kbbi['0'] != 'udd']"
      ],
      "execution_count": 0,
      "outputs": []
    },
    {
      "cell_type": "code",
      "metadata": {
        "id": "RYFxo0DTdmPS",
        "colab_type": "code",
        "colab": {}
      },
      "source": [
        "df_kata_non_kbbi.columns = ['Kata Sebelum']\n",
        "df_kata_non_kbbi['Kata KBBI'] = 'none'"
      ],
      "execution_count": 0,
      "outputs": []
    },
    {
      "cell_type": "code",
      "metadata": {
        "id": "LS5KZpYZ0n-2",
        "colab_type": "code",
        "colab": {}
      },
      "source": [
        "tuple_kata_jokowi = fasttext_model_comment.wv.most_similar('jokowi', topn=550)\n",
        "first_tuple_jokowi = [a_tuple[0] for a_tuple in tuple_kata_jokowi if 'jokowi' in a_tuple[0] or 'joko' in a_tuple[0] or 'owi' in a_tuple[0] or 'jkw' in a_tuple[0]]"
      ],
      "execution_count": 0,
      "outputs": []
    },
    {
      "cell_type": "code",
      "metadata": {
        "id": "EZE2hMrl7mwp",
        "colab_type": "code",
        "colab": {}
      },
      "source": [
        "tuple_kata_ahok = fasttext_model_comment.wv.most_similar('ahok', topn=550)\n",
        "first_tuple_ahok = [a_tuple[0] for a_tuple in tuple_kata_ahok if lcs(a_tuple[0], 'ahok', len(a_tuple[0]), 4) >= 3 and a_tuple[0] not in first_tuple_jokowi]"
      ],
      "execution_count": 0,
      "outputs": []
    },
    {
      "cell_type": "code",
      "metadata": {
        "id": "Yi3bA0an6HT-",
        "colab_type": "code",
        "colab": {}
      },
      "source": [
        "tuple_kata_prabowo = fasttext_model_comment.wv.most_similar('prabowo', topn=550)\n",
        "first_tuple_prabowo = [a_tuple[0] for a_tuple in tuple_kata_prabowo if lcs(a_tuple[0], 'prabowo', len(a_tuple[0]), len('prabowo')) >= 4 and a_tuple[0] not in first_tuple_jokowi and a_tuple[0] not in first_tuple_ahok]"
      ],
      "execution_count": 0,
      "outputs": []
    },
    {
      "cell_type": "code",
      "metadata": {
        "id": "nn2Guivs7EP2",
        "colab_type": "code",
        "colab": {}
      },
      "source": [
        "tuple_kata_nazar = fasttext_model_comment.wv.most_similar('nazar', topn=310)\n",
        "first_tuple_nazar = [a_tuple[0] for a_tuple in tuple_kata_nazar if lcs(a_tuple[0], 'nazar', len(a_tuple[0]), len('nazar')) >= 4 and a_tuple[0] not in first_tuple_jokowi and a_tuple[0] not in first_tuple_ahok not in first_tuple_prabowo]"
      ],
      "execution_count": 0,
      "outputs": []
    },
    {
      "cell_type": "code",
      "metadata": {
        "id": "kCklwzMu82M1",
        "colab_type": "code",
        "colab": {}
      },
      "source": [
        "tuple_kata_djarot = fasttext_model_comment.wv.most_similar('djarot', topn=100)\n",
        "first_tuple_djarot = [a_tuple[0] for a_tuple in tuple_kata_djarot if lcs(a_tuple[0], 'djarot', len(a_tuple[0]), len('djarot')) >= 4 and a_tuple[0] not in first_tuple_jokowi and a_tuple[0] not in first_tuple_ahok not in first_tuple_prabowo not in first_tuple_nazar]"
      ],
      "execution_count": 0,
      "outputs": []
    },
    {
      "cell_type": "code",
      "metadata": {
        "id": "0hhJqGy5q4Ur",
        "colab_type": "code",
        "colab": {}
      },
      "source": [
        "join_tuple_check = first_tuple_jokowi + first_tuple_ahok + first_tuple_prabowo + first_tuple_djarot + first_tuple_nazar"
      ],
      "execution_count": 0,
      "outputs": []
    },
    {
      "cell_type": "code",
      "metadata": {
        "id": "tWr42-DNsjTe",
        "colab_type": "code",
        "colab": {}
      },
      "source": [
        "tuple_kata_haha = fasttext_model_comment.wv.most_similar('wkwk', topn=100)\n",
        "first_tuple_haha = [a_tuple[0] for a_tuple in tuple_kata_haha if lcs(a_tuple[0], 'wkwk', len(a_tuple[0]), len('wkwk')) >= 2]"
      ],
      "execution_count": 0,
      "outputs": []
    },
    {
      "cell_type": "code",
      "metadata": {
        "id": "4GZrrIWJOEWq",
        "colab_type": "code",
        "colab": {}
      },
      "source": [
        "df_kata_non_kbbi[\"Kata KBBI\"][df_kata_non_kbbi[\"Kata Sebelum\"].isin(first_tuple_nazar+[\"nazar\"])]"
      ],
      "execution_count": 0,
      "outputs": []
    },
    {
      "cell_type": "code",
      "metadata": {
        "id": "eeI0h2PwwRDM",
        "colab_type": "code",
        "colab": {}
      },
      "source": [
        "tuple_kata_tuh = fasttext_model_comment.wv.most_similar('tuh', topn=100)\n",
        "first_tuple_tuh = [a_tuple[0] for a_tuple in tuple_kata_tuh if lcs(a_tuple[0], 'tuh', len(a_tuple[0]), len('tuh')) >= 2]"
      ],
      "execution_count": 0,
      "outputs": []
    },
    {
      "cell_type": "code",
      "metadata": {
        "id": "zhLGfRhTtqFh",
        "colab_type": "code",
        "colab": {}
      },
      "source": [
        "first_tuple_djarot = first_tuple_djarot + ['djarot']\n",
        "first_tuple_ahok = first_tuple_ahok + ['ahok']\n",
        "first_tuple_jokowi = first_tuple_jokowi + ['jokowi']\n",
        "first_tuple_nazar = first_tuple_nazar + ['nazar']\n",
        "first_tuple_prabowo = first_tuple_prabowo + ['prabowo']\n",
        "first_tuple_haha = first_tuple_haha + ['wkwk']\n",
        "first_tuple_tuh = first_tuple_tuh + ['tuh']\n",
        "\n",
        "all_join = []\n",
        "all_join.append(first_tuple_djarot)\n",
        "all_join.append(first_tuple_ahok)\n",
        "all_join.append(first_tuple_jokowi)\n",
        "all_join.append(first_tuple_nazar)\n",
        "# all_join.append(first_tuple_haha)\n",
        "all_join.append(first_tuple_prabowo)"
      ],
      "execution_count": 0,
      "outputs": []
    },
    {
      "cell_type": "code",
      "metadata": {
        "id": "Sv8i9kYitdFD",
        "colab_type": "code",
        "colab": {}
      },
      "source": [
        "for i in range(len(all_join)):\n",
        "  df_kata_non_kbbi[\"Kata KBBI\"][df_kata_non_kbbi[\"Kata Sebelum\"].isin(all_join[i])] = all_join[i][len(all_join[i])-1]"
      ],
      "execution_count": 0,
      "outputs": []
    },
    {
      "cell_type": "code",
      "metadata": {
        "id": "EDIfkhVtzHkF",
        "colab_type": "code",
        "colab": {}
      },
      "source": [
        "cari = df_kata_non_kbbi[\"Kata Sebelum\"] == \"wowo\"\n",
        "df_kata_non_kbbi[cari]"
      ],
      "execution_count": 0,
      "outputs": []
    },
    {
      "cell_type": "code",
      "metadata": {
        "id": "ob8WPn6Fvlje",
        "colab_type": "code",
        "colab": {}
      },
      "source": [
        "df_kata_non_kbbi[\"Kata KBBI\"][df_kata_non_kbbi[\"Kata Sebelum\"].isin(first_tuple_haha)] = 'haha'\n",
        "df_kata_non_kbbi[\"Kata KBBI\"][df_kata_non_kbbi[\"Kata Sebelum\"].isin(first_tuple_tuh)] = 'itu'"
      ],
      "execution_count": 0,
      "outputs": []
    },
    {
      "cell_type": "code",
      "metadata": {
        "id": "qdcWuBo7xEap",
        "colab_type": "code",
        "colab": {}
      },
      "source": [
        "df_kata_non_kbbi.to_csv('Map Kata Non KBBI 3.csv',index=False)"
      ],
      "execution_count": 0,
      "outputs": []
    },
    {
      "cell_type": "markdown",
      "metadata": {
        "id": "ydvfCYYDxubG",
        "colab_type": "text"
      },
      "source": [
        "### Load Hasil filter 3"
      ]
    },
    {
      "cell_type": "code",
      "metadata": {
        "id": "dJwBZGUtxIrB",
        "colab_type": "code",
        "colab": {}
      },
      "source": [
        "df_kata_non_kbbi = pd.read_csv('Map Kata Non KBBI 3.csv')"
      ],
      "execution_count": 0,
      "outputs": []
    },
    {
      "cell_type": "markdown",
      "metadata": {
        "id": "TvOJtPH2XPPm",
        "colab_type": "text"
      },
      "source": [
        "# Gabung Semua DataFrame"
      ]
    },
    {
      "cell_type": "code",
      "metadata": {
        "id": "yehmXs1LZWg2",
        "colab_type": "code",
        "colab": {}
      },
      "source": [
        "df_kata_kbbi_2_new.columns = [\"Kata Sebelum\", \"Kata KBBI\", \"Kategori\"]"
      ],
      "execution_count": 0,
      "outputs": []
    },
    {
      "cell_type": "code",
      "metadata": {
        "id": "kvjw_kONXOcn",
        "colab_type": "code",
        "colab": {}
      },
      "source": [
        "frames = [kata_kbbi_pertama, df_kata_kbbi_2_new, df_kata_non_kbbi]\n",
        "df_all = pd.concat(frames, ignore_index=True) "
      ],
      "execution_count": 0,
      "outputs": []
    },
    {
      "cell_type": "code",
      "metadata": {
        "id": "kc1A3Tf3fm6n",
        "colab_type": "code",
        "colab": {}
      },
      "source": [
        "df_all = df_all.replace(np.nan, 'Tidak Tahu', regex=True)\n",
        "df_all = df_all.replace('none', 'Tidak Tahu', regex=True)"
      ],
      "execution_count": 0,
      "outputs": []
    },
    {
      "cell_type": "code",
      "metadata": {
        "id": "nNliaQb9Nugs",
        "colab_type": "code",
        "colab": {}
      },
      "source": [
        "df_all['Kata KBBI'].value_counts().head()"
      ],
      "execution_count": 0,
      "outputs": []
    },
    {
      "cell_type": "code",
      "metadata": {
        "id": "3Nu-nXPjxKSL",
        "colab_type": "code",
        "colab": {}
      },
      "source": [
        "list_sebelum_all = list(df_all['Kata Sebelum'])\n",
        "list_kbbi_all = list(df_all['Kata KBBI'])"
      ],
      "execution_count": 0,
      "outputs": []
    },
    {
      "cell_type": "code",
      "metadata": {
        "id": "8v-n1HO1ftHj",
        "colab_type": "code",
        "colab": {}
      },
      "source": [
        "df_category_sebelum = df_all[\"Kata Sebelum\"].value_counts().to_frame()\n",
        "df_category_sebelum = df_category_sebelum.reset_index()\n",
        "list_df_category = list(df_category_sebelum[\"index\"])\n",
        "df_category_kbbi = df_all[\"Kata KBBI\"].value_counts().to_frame()\n",
        "df_category_kbbi = df_category_kbbi.reset_index()\n",
        "list_df_category_kbbi = list(df_category_kbbi[\"index\"])"
      ],
      "execution_count": 0,
      "outputs": []
    },
    {
      "cell_type": "code",
      "metadata": {
        "id": "Jrg7AVxElpTx",
        "colab_type": "code",
        "colab": {}
      },
      "source": [
        "df_category_sebelum.columns = [\"Kata Sebelum\", \"Counts Sebelum\"]\n",
        "df_category_sebelum.head()\n",
        "\n",
        "df_category_kbbi.columns = [\"Kata KBBI\", \"Counts KBBI\"]\n",
        "df_category_kbbi.head()"
      ],
      "execution_count": 0,
      "outputs": []
    },
    {
      "cell_type": "code",
      "metadata": {
        "id": "hbhv1UEMZLrt",
        "colab_type": "code",
        "outputId": "63240b24-1519-4b83-b0fd-7b9ab693ed42",
        "colab": {
          "base_uri": "https://localhost:8080/",
          "height": 35
        }
      },
      "source": [
        "le_kata_sebelum = preprocessing.LabelEncoder()\n",
        "le_kata_kbbi = preprocessing.LabelEncoder()\n",
        "le_kata_sebelum.fit(list_df_category)\n",
        "le_kata_kbbi.fit(list_df_category_kbbi)"
      ],
      "execution_count": 14,
      "outputs": [
        {
          "output_type": "execute_result",
          "data": {
            "text/plain": [
              "LabelEncoder()"
            ]
          },
          "metadata": {
            "tags": []
          },
          "execution_count": 14
        }
      ]
    },
    {
      "cell_type": "markdown",
      "metadata": {
        "id": "dwz06XAu0aHm",
        "colab_type": "text"
      },
      "source": [
        "### Transform Kamus (Not used now)"
      ]
    },
    {
      "cell_type": "code",
      "metadata": {
        "id": "ZvQBP26XaFt1",
        "colab_type": "code",
        "colab": {}
      },
      "source": [
        "# list_transformed_sebelum_vocab = le_kata_sebelum.transform(list_df_category)\n",
        "# list_transformed_kbbi_vocab = le_kata_kbbi.transform(list_df_category_kbbi)"
      ],
      "execution_count": 0,
      "outputs": []
    },
    {
      "cell_type": "code",
      "metadata": {
        "id": "PB3MrOq2y7c5",
        "colab_type": "code",
        "colab": {}
      },
      "source": [
        "split_length = int(len(list_sebelum_all) / 2)"
      ],
      "execution_count": 0,
      "outputs": []
    },
    {
      "cell_type": "markdown",
      "metadata": {
        "id": "p5_0JDJq0gth",
        "colab_type": "text"
      },
      "source": [
        "### Transform Whole Dataset"
      ]
    },
    {
      "cell_type": "code",
      "metadata": {
        "id": "oNmj0g7Ow9Jb",
        "colab_type": "code",
        "colab": {}
      },
      "source": [
        "list_transformed_sebelum = list(le_kata_sebelum.transform(list_sebelum_all[:split_length]))\n",
        "list_transformed_sebelum_2 = list(le_kata_sebelum.transform(list_sebelum_all[split_length:]))\n",
        "list_transformed_kbbi = list(le_kata_kbbi.transform(list_kbbi_all[:split_length]))\n",
        "list_transformed_kbbi_2 = list(le_kata_kbbi.transform(list_kbbi_all[split_length:]))"
      ],
      "execution_count": 0,
      "outputs": []
    },
    {
      "cell_type": "code",
      "metadata": {
        "id": "bNCfwmLu4q9I",
        "colab_type": "code",
        "colab": {}
      },
      "source": [
        "list_transformed_kbbi[0: 100]"
      ],
      "execution_count": 0,
      "outputs": []
    },
    {
      "cell_type": "code",
      "metadata": {
        "id": "Q15jxEGqzNYP",
        "colab_type": "code",
        "colab": {}
      },
      "source": [
        "list_transformed_sebelum_join = list_transformed_sebelum+list_transformed_sebelum_2 \n",
        "list_transformed_kbbi_join = list_transformed_kbbi+list_transformed_kbbi_2"
      ],
      "execution_count": 0,
      "outputs": []
    },
    {
      "cell_type": "code",
      "metadata": {
        "id": "PP1jvnsRmmN9",
        "colab_type": "code",
        "colab": {}
      },
      "source": [
        "dictionary_sebelum = dict(zip(list_df_category, list_transformed_sebelum))\n",
        "dictionary_kbbi = dict(zip(list_df_category_kbbi, list_transformed_kbbi))"
      ],
      "execution_count": 0,
      "outputs": []
    },
    {
      "cell_type": "markdown",
      "metadata": {
        "id": "pqJj-ONGg_YZ",
        "colab_type": "text"
      },
      "source": [
        "## Coba Coba"
      ]
    },
    {
      "cell_type": "code",
      "metadata": {
        "id": "jrYDf5EAs7RY",
        "colab_type": "code",
        "colab": {}
      },
      "source": [
        "df_tes = pd.DataFrame({\"Kata Sebelum\" : list_sebelum_all, \"Kata KBBI\" : list_kbbi_all, \"Encoded Kata Sebelum\" : list_transformed_sebelum_join, \"Encoded Kata KBBI\" : list_transformed_kbbi_join})"
      ],
      "execution_count": 0,
      "outputs": []
    },
    {
      "cell_type": "code",
      "metadata": {
        "id": "9jDgdS9KK_dg",
        "colab_type": "code",
        "colab": {}
      },
      "source": [
        "df_tes.to_csv('Map Kata Setelah Encode.csv',index=False)"
      ],
      "execution_count": 0,
      "outputs": []
    },
    {
      "cell_type": "markdown",
      "metadata": {
        "id": "DKV5D-t_LJVV",
        "colab_type": "text"
      },
      "source": [
        "### Load CSV Setelah Encode"
      ]
    },
    {
      "cell_type": "code",
      "metadata": {
        "id": "LIxpI9JILHob",
        "colab_type": "code",
        "colab": {}
      },
      "source": [
        "df_tes = pd.read_csv('Map Kata Setelah Encode.csv')"
      ],
      "execution_count": 0,
      "outputs": []
    },
    {
      "cell_type": "markdown",
      "metadata": {
        "id": "iZ_Z_zQM-Fm2",
        "colab_type": "text"
      },
      "source": [
        "### Mengecilkan Train data"
      ]
    },
    {
      "cell_type": "code",
      "metadata": {
        "id": "nvhH-5ng-FOI",
        "colab_type": "code",
        "colab": {}
      },
      "source": [
        "df_train = df_tes[['Kata Sebelum', 'Kata KBBI' ,'Encoded Kata Sebelum', 'Encoded Kata KBBI']].drop_duplicates()\n",
        "# num_class = df_train['Encoded Kata KBBI'].drop_duplicates()\n",
        "# num_class = len(num_class)\n",
        "# print(num_class)\n",
        "\n",
        "df_train.reset_index(drop=True, inplace=True)"
      ],
      "execution_count": 0,
      "outputs": []
    },
    {
      "cell_type": "markdown",
      "metadata": {
        "id": "zOlWITY66uof",
        "colab_type": "text"
      },
      "source": [
        "### Menginisiasi Model Decision Tree Classifier"
      ]
    },
    {
      "cell_type": "code",
      "metadata": {
        "id": "wgnl7rSz5YoD",
        "colab_type": "code",
        "colab": {}
      },
      "source": [
        "from sklearn.tree import DecisionTreeClassifier\n",
        "\n",
        "X_train = df_train['Encoded Kata Sebelum']\n",
        "y_train = df_train['Encoded Kata KBBI']\n",
        "# model_logreg = LogisticRegression()\n",
        "clf = DecisionTreeClassifier(criterion='gini',  min_samples_leaf=1)"
      ],
      "execution_count": 0,
      "outputs": []
    },
    {
      "cell_type": "markdown",
      "metadata": {
        "id": "P-NESrq-6plx",
        "colab_type": "text"
      },
      "source": [
        "### Menentukan Train Data"
      ]
    },
    {
      "cell_type": "code",
      "metadata": {
        "id": "ZL4QxOaUDtoz",
        "colab_type": "code",
        "colab": {}
      },
      "source": [
        "X_train = X_train[0:10000]\n",
        "y_train = y_train[0:10000]\n",
        "\n",
        "X_train = np.append(X_train, 64422)\n",
        "y_train = np.append(y_train, 7864)\n",
        "X_train = np.append(X_train, 127961)\n",
        "y_train = np.append(y_train, 16464)\n",
        "X_train = np.append(X_train, 17730)\n",
        "y_train = np.append(y_train, 2696)"
      ],
      "execution_count": 0,
      "outputs": []
    },
    {
      "cell_type": "code",
      "metadata": {
        "id": "kzw-zh0shWJf",
        "colab_type": "code",
        "colab": {
          "base_uri": "https://localhost:8080/",
          "height": 35
        },
        "outputId": "f0bda84d-e06f-43ba-a56a-6afaa02701bd"
      },
      "source": [
        "X_train.shape"
      ],
      "execution_count": 30,
      "outputs": [
        {
          "output_type": "execute_result",
          "data": {
            "text/plain": [
              "(10003, 1)"
            ]
          },
          "metadata": {
            "tags": []
          },
          "execution_count": 30
        }
      ]
    },
    {
      "cell_type": "code",
      "metadata": {
        "id": "TW3F3z-d6bbA",
        "colab_type": "code",
        "colab": {}
      },
      "source": [
        "X_train = X_train[ :, np.newaxis]"
      ],
      "execution_count": 0,
      "outputs": []
    },
    {
      "cell_type": "markdown",
      "metadata": {
        "id": "tLh_X5cb6sii",
        "colab_type": "text"
      },
      "source": [
        "### Melakukan Training"
      ]
    },
    {
      "cell_type": "code",
      "metadata": {
        "id": "UI-aHomkByFx",
        "colab_type": "code",
        "colab": {}
      },
      "source": [
        "clf.fit(X_train, y_train)"
      ],
      "execution_count": 0,
      "outputs": []
    },
    {
      "cell_type": "code",
      "metadata": {
        "id": "3ZU-vr2J1uZe",
        "colab_type": "code",
        "colab": {}
      },
      "source": [
        "pickle.dump(clf, open(\"Model_Decision_Tree_Classifier.sav\", 'wb'))"
      ],
      "execution_count": 0,
      "outputs": []
    },
    {
      "cell_type": "code",
      "metadata": {
        "id": "h8EMdWCJ6cQW",
        "colab_type": "code",
        "colab": {}
      },
      "source": [
        "clf = pickle.load(open(\"Model_Decision_Tree_Classifier.sav\", 'rb'))"
      ],
      "execution_count": 0,
      "outputs": []
    },
    {
      "cell_type": "markdown",
      "metadata": {
        "id": "1m7m7YiK66O5",
        "colab_type": "text"
      },
      "source": [
        "### Melakukan Prediksi dan mendapatkan Akurasi"
      ]
    },
    {
      "cell_type": "code",
      "metadata": {
        "id": "1blp7QT96ZKr",
        "colab_type": "code",
        "colab": {}
      },
      "source": [
        "y_pred_train = clf.predict(X_train)"
      ],
      "execution_count": 0,
      "outputs": []
    },
    {
      "cell_type": "code",
      "metadata": {
        "id": "HPpoO9sqRonk",
        "colab_type": "code",
        "outputId": "e49ee7ba-a0d0-4f19-d56d-00257fa5d994",
        "colab": {
          "base_uri": "https://localhost:8080/",
          "height": 215
        }
      },
      "source": [
        "y_pred_train[1:100]"
      ],
      "execution_count": 33,
      "outputs": [
        {
          "output_type": "execute_result",
          "data": {
            "text/plain": [
              "array([18165, 14518, 18260,  8383,  8134,  1260,  9822,  4730,  7288,\n",
              "        3460, 21955, 18147,  3411, 20131, 21421, 10904,  2330, 10776,\n",
              "       17717,  2659,  6568, 14201, 15930, 10583,  3486,  1011, 12483,\n",
              "       18145, 19488,  8071,  7555,    66,  2932,  3652,  8410,   810,\n",
              "       10182, 16416, 20218, 10384,  1089,   204, 10948,  7131, 18735,\n",
              "       21377, 16769,  7590, 11257,  7825,  8131, 11514, 10345,  3673,\n",
              "       20786, 11064,  7895,  6758,  7531, 10445,  7145,  7530, 19391,\n",
              "       12848,  9299, 14691,  8089, 11254,  1683, 14419, 16366,  3072,\n",
              "       18022,  2287,  2684,   200,  1442, 19553, 13999,  3786, 15592,\n",
              "        8308, 15462,  9072, 12177,  5032, 11259,   931, 19518, 19153,\n",
              "       13864,  4956, 18408,  8060, 11012,  3955, 17778, 18950, 17942])"
            ]
          },
          "metadata": {
            "tags": []
          },
          "execution_count": 33
        }
      ]
    },
    {
      "cell_type": "code",
      "metadata": {
        "id": "MWKG2Xg1QcqC",
        "colab_type": "code",
        "outputId": "71075346-df85-4294-99f5-ad98646b6107",
        "colab": {
          "base_uri": "https://localhost:8080/",
          "height": 35
        }
      },
      "source": [
        "print(\"Tingkat Accuracy :\",  accuracy_score(y_train, y_pred_train))\n",
        "# print(confusion_matrix(y_train, y_pred_train))"
      ],
      "execution_count": 34,
      "outputs": [
        {
          "output_type": "stream",
          "text": [
            "Tingkat Accuracy : 0.9999000299910027\n"
          ],
          "name": "stdout"
        }
      ]
    },
    {
      "cell_type": "code",
      "metadata": {
        "id": "HeV81r4ZGGAs",
        "colab_type": "code",
        "colab": {}
      },
      "source": [
        "print(classification_report(y_train, y_pred_train))"
      ],
      "execution_count": 0,
      "outputs": []
    },
    {
      "cell_type": "markdown",
      "metadata": {
        "id": "_dlFJFSN7BRC",
        "colab_type": "text"
      },
      "source": [
        "### Test ke String Manual"
      ]
    },
    {
      "cell_type": "code",
      "metadata": {
        "id": "72xM5qaU59Uw",
        "colab_type": "code",
        "outputId": "cb78d1ce-edd5-4255-c632-55cb35b1fe55",
        "colab": {
          "base_uri": "https://localhost:8080/",
          "height": 107
        }
      },
      "source": [
        "string_test = ['jkw', 'yg', 'menang', 'bkn', 'pranowo']\n",
        "kalimat_awal = le_kata_sebelum.transform(string_test)\n",
        "print(\"String Awal:\", string_test)\n",
        "print(\"Nilai Encoding Awal :\", kalimat_awal)\n",
        "kalimat_awal = kalimat_awal[ :, np.newaxis]\n",
        "\n",
        "# Prediksi\n",
        "kalimat_prediksi = clf.predict(kalimat_awal)\n",
        "print()\n",
        "\n",
        "print(\"Nilai Encoding Prediksi\", kalimat_prediksi)\n",
        "print(\"String Setelah Prediksi:\", le_kata_kbbi.inverse_transform(kalimat_prediksi))"
      ],
      "execution_count": 39,
      "outputs": [
        {
          "output_type": "stream",
          "text": [
            "String Awal: ['jkw', 'yg', 'menang', 'bkn', 'pranowo']\n",
            "Nilai Encoding Awal : [ 64422 170948  93087  17730 127961]\n",
            "\n",
            "Nilai Encoding Prediksi [ 7864 21955 12020  2696 16464]\n",
            "String Setelah Prediksi: ['jokowi' 'yang' 'menang' 'bukan' 'prabowo']\n"
          ],
          "name": "stdout"
        }
      ]
    }
  ]
}